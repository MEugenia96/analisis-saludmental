{
 "cells": [
  {
   "cell_type": "code",
   "execution_count": 1,
   "id": "2050df2d-c450-4163-bb95-8a5ea65b5f98",
   "metadata": {},
   "outputs": [],
   "source": [
    "import pandas as pd\n",
    "import numpy as np\n",
    "import seaborn as sns"
   ]
  },
  {
   "cell_type": "code",
   "execution_count": 2,
   "id": "89fe2361-5a40-40b7-8d4d-6954bb11baea",
   "metadata": {},
   "outputs": [],
   "source": [
    "df = pd.read_csv('mental_health_dataset.csv')"
   ]
  },
  {
   "cell_type": "code",
   "execution_count": 3,
   "id": "a7708879-03d2-4313-86af-1fbf7caa1ca4",
   "metadata": {},
   "outputs": [
    {
     "data": {
      "text/html": [
       "<div>\n",
       "<style scoped>\n",
       "    .dataframe tbody tr th:only-of-type {\n",
       "        vertical-align: middle;\n",
       "    }\n",
       "\n",
       "    .dataframe tbody tr th {\n",
       "        vertical-align: top;\n",
       "    }\n",
       "\n",
       "    .dataframe thead th {\n",
       "        text-align: right;\n",
       "    }\n",
       "</style>\n",
       "<table border=\"1\" class=\"dataframe\">\n",
       "  <thead>\n",
       "    <tr style=\"text-align: right;\">\n",
       "      <th></th>\n",
       "      <th>age</th>\n",
       "      <th>gender</th>\n",
       "      <th>employment_status</th>\n",
       "      <th>work_environment</th>\n",
       "      <th>mental_health_history</th>\n",
       "      <th>seeks_treatment</th>\n",
       "      <th>stress_level</th>\n",
       "      <th>sleep_hours</th>\n",
       "      <th>physical_activity_days</th>\n",
       "      <th>depression_score</th>\n",
       "      <th>anxiety_score</th>\n",
       "      <th>social_support_score</th>\n",
       "      <th>productivity_score</th>\n",
       "      <th>mental_health_risk</th>\n",
       "    </tr>\n",
       "  </thead>\n",
       "  <tbody>\n",
       "    <tr>\n",
       "      <th>0</th>\n",
       "      <td>56</td>\n",
       "      <td>Male</td>\n",
       "      <td>Employed</td>\n",
       "      <td>On-site</td>\n",
       "      <td>Yes</td>\n",
       "      <td>Yes</td>\n",
       "      <td>6</td>\n",
       "      <td>6.2</td>\n",
       "      <td>3</td>\n",
       "      <td>28</td>\n",
       "      <td>17</td>\n",
       "      <td>54</td>\n",
       "      <td>59.7</td>\n",
       "      <td>High</td>\n",
       "    </tr>\n",
       "    <tr>\n",
       "      <th>1</th>\n",
       "      <td>46</td>\n",
       "      <td>Female</td>\n",
       "      <td>Student</td>\n",
       "      <td>On-site</td>\n",
       "      <td>No</td>\n",
       "      <td>Yes</td>\n",
       "      <td>10</td>\n",
       "      <td>9.0</td>\n",
       "      <td>4</td>\n",
       "      <td>30</td>\n",
       "      <td>11</td>\n",
       "      <td>85</td>\n",
       "      <td>54.9</td>\n",
       "      <td>High</td>\n",
       "    </tr>\n",
       "    <tr>\n",
       "      <th>2</th>\n",
       "      <td>32</td>\n",
       "      <td>Female</td>\n",
       "      <td>Employed</td>\n",
       "      <td>On-site</td>\n",
       "      <td>Yes</td>\n",
       "      <td>No</td>\n",
       "      <td>7</td>\n",
       "      <td>7.7</td>\n",
       "      <td>2</td>\n",
       "      <td>24</td>\n",
       "      <td>7</td>\n",
       "      <td>62</td>\n",
       "      <td>61.3</td>\n",
       "      <td>Medium</td>\n",
       "    </tr>\n",
       "    <tr>\n",
       "      <th>3</th>\n",
       "      <td>60</td>\n",
       "      <td>Non-binary</td>\n",
       "      <td>Self-employed</td>\n",
       "      <td>On-site</td>\n",
       "      <td>No</td>\n",
       "      <td>No</td>\n",
       "      <td>4</td>\n",
       "      <td>4.5</td>\n",
       "      <td>4</td>\n",
       "      <td>6</td>\n",
       "      <td>0</td>\n",
       "      <td>95</td>\n",
       "      <td>97.0</td>\n",
       "      <td>Low</td>\n",
       "    </tr>\n",
       "    <tr>\n",
       "      <th>4</th>\n",
       "      <td>25</td>\n",
       "      <td>Female</td>\n",
       "      <td>Self-employed</td>\n",
       "      <td>On-site</td>\n",
       "      <td>Yes</td>\n",
       "      <td>Yes</td>\n",
       "      <td>3</td>\n",
       "      <td>5.4</td>\n",
       "      <td>0</td>\n",
       "      <td>24</td>\n",
       "      <td>12</td>\n",
       "      <td>70</td>\n",
       "      <td>69.0</td>\n",
       "      <td>High</td>\n",
       "    </tr>\n",
       "  </tbody>\n",
       "</table>\n",
       "</div>"
      ],
      "text/plain": [
       "   age      gender employment_status work_environment mental_health_history  \\\n",
       "0   56        Male          Employed          On-site                   Yes   \n",
       "1   46      Female           Student          On-site                    No   \n",
       "2   32      Female          Employed          On-site                   Yes   \n",
       "3   60  Non-binary     Self-employed          On-site                    No   \n",
       "4   25      Female     Self-employed          On-site                   Yes   \n",
       "\n",
       "  seeks_treatment  stress_level  sleep_hours  physical_activity_days  \\\n",
       "0             Yes             6          6.2                       3   \n",
       "1             Yes            10          9.0                       4   \n",
       "2              No             7          7.7                       2   \n",
       "3              No             4          4.5                       4   \n",
       "4             Yes             3          5.4                       0   \n",
       "\n",
       "   depression_score  anxiety_score  social_support_score  productivity_score  \\\n",
       "0                28             17                    54                59.7   \n",
       "1                30             11                    85                54.9   \n",
       "2                24              7                    62                61.3   \n",
       "3                 6              0                    95                97.0   \n",
       "4                24             12                    70                69.0   \n",
       "\n",
       "  mental_health_risk  \n",
       "0               High  \n",
       "1               High  \n",
       "2             Medium  \n",
       "3                Low  \n",
       "4               High  "
      ]
     },
     "execution_count": 3,
     "metadata": {},
     "output_type": "execute_result"
    }
   ],
   "source": [
    "df.head()"
   ]
  },
  {
   "cell_type": "code",
   "execution_count": 4,
   "id": "0b049764-41f0-44d0-980e-600cb844731b",
   "metadata": {},
   "outputs": [
    {
     "name": "stdout",
     "output_type": "stream",
     "text": [
      "<class 'pandas.core.frame.DataFrame'>\n",
      "RangeIndex: 10000 entries, 0 to 9999\n",
      "Data columns (total 14 columns):\n",
      " #   Column                  Non-Null Count  Dtype  \n",
      "---  ------                  --------------  -----  \n",
      " 0   age                     10000 non-null  int64  \n",
      " 1   gender                  10000 non-null  object \n",
      " 2   employment_status       10000 non-null  object \n",
      " 3   work_environment        10000 non-null  object \n",
      " 4   mental_health_history   10000 non-null  object \n",
      " 5   seeks_treatment         10000 non-null  object \n",
      " 6   stress_level            10000 non-null  int64  \n",
      " 7   sleep_hours             10000 non-null  float64\n",
      " 8   physical_activity_days  10000 non-null  int64  \n",
      " 9   depression_score        10000 non-null  int64  \n",
      " 10  anxiety_score           10000 non-null  int64  \n",
      " 11  social_support_score    10000 non-null  int64  \n",
      " 12  productivity_score      10000 non-null  float64\n",
      " 13  mental_health_risk      10000 non-null  object \n",
      "dtypes: float64(2), int64(6), object(6)\n",
      "memory usage: 1.1+ MB\n"
     ]
    }
   ],
   "source": [
    "df.info()"
   ]
  },
  {
   "cell_type": "markdown",
   "id": "08fb73fa-1b94-467b-9818-0c80ca600767",
   "metadata": {},
   "source": [
    "### El dataset a trabajar cuenta con:\n",
    "- 14 columnas\n",
    "- 10.000 observaciones\n",
    "- Sin datos faltantes"
   ]
  },
  {
   "cell_type": "code",
   "execution_count": 5,
   "id": "fdb549f6-b067-4a8e-80d0-39738f1f76cf",
   "metadata": {},
   "outputs": [
    {
     "data": {
      "text/html": [
       "<div>\n",
       "<style scoped>\n",
       "    .dataframe tbody tr th:only-of-type {\n",
       "        vertical-align: middle;\n",
       "    }\n",
       "\n",
       "    .dataframe tbody tr th {\n",
       "        vertical-align: top;\n",
       "    }\n",
       "\n",
       "    .dataframe thead th {\n",
       "        text-align: right;\n",
       "    }\n",
       "</style>\n",
       "<table border=\"1\" class=\"dataframe\">\n",
       "  <thead>\n",
       "    <tr style=\"text-align: right;\">\n",
       "      <th></th>\n",
       "      <th>age</th>\n",
       "      <th>stress_level</th>\n",
       "      <th>sleep_hours</th>\n",
       "      <th>physical_activity_days</th>\n",
       "      <th>depression_score</th>\n",
       "      <th>anxiety_score</th>\n",
       "      <th>social_support_score</th>\n",
       "      <th>productivity_score</th>\n",
       "    </tr>\n",
       "  </thead>\n",
       "  <tbody>\n",
       "    <tr>\n",
       "      <th>count</th>\n",
       "      <td>10000.000000</td>\n",
       "      <td>10000.000000</td>\n",
       "      <td>10000.000000</td>\n",
       "      <td>10000.000000</td>\n",
       "      <td>10000.000000</td>\n",
       "      <td>10000.00000</td>\n",
       "      <td>10000.000000</td>\n",
       "      <td>10000.000000</td>\n",
       "    </tr>\n",
       "    <tr>\n",
       "      <th>mean</th>\n",
       "      <td>41.557600</td>\n",
       "      <td>5.572000</td>\n",
       "      <td>6.473000</td>\n",
       "      <td>3.505700</td>\n",
       "      <td>15.039900</td>\n",
       "      <td>10.56180</td>\n",
       "      <td>50.117700</td>\n",
       "      <td>77.312210</td>\n",
       "    </tr>\n",
       "    <tr>\n",
       "      <th>std</th>\n",
       "      <td>13.749581</td>\n",
       "      <td>2.887741</td>\n",
       "      <td>1.473944</td>\n",
       "      <td>2.282737</td>\n",
       "      <td>8.990839</td>\n",
       "      <td>6.32264</td>\n",
       "      <td>29.229278</td>\n",
       "      <td>14.061202</td>\n",
       "    </tr>\n",
       "    <tr>\n",
       "      <th>min</th>\n",
       "      <td>18.000000</td>\n",
       "      <td>1.000000</td>\n",
       "      <td>3.000000</td>\n",
       "      <td>0.000000</td>\n",
       "      <td>0.000000</td>\n",
       "      <td>0.00000</td>\n",
       "      <td>0.000000</td>\n",
       "      <td>42.800000</td>\n",
       "    </tr>\n",
       "    <tr>\n",
       "      <th>25%</th>\n",
       "      <td>30.000000</td>\n",
       "      <td>3.000000</td>\n",
       "      <td>5.500000</td>\n",
       "      <td>2.000000</td>\n",
       "      <td>7.000000</td>\n",
       "      <td>5.00000</td>\n",
       "      <td>25.000000</td>\n",
       "      <td>65.800000</td>\n",
       "    </tr>\n",
       "    <tr>\n",
       "      <th>50%</th>\n",
       "      <td>41.500000</td>\n",
       "      <td>6.000000</td>\n",
       "      <td>6.500000</td>\n",
       "      <td>4.000000</td>\n",
       "      <td>15.000000</td>\n",
       "      <td>11.00000</td>\n",
       "      <td>50.000000</td>\n",
       "      <td>77.600000</td>\n",
       "    </tr>\n",
       "    <tr>\n",
       "      <th>75%</th>\n",
       "      <td>53.000000</td>\n",
       "      <td>8.000000</td>\n",
       "      <td>7.500000</td>\n",
       "      <td>5.000000</td>\n",
       "      <td>23.000000</td>\n",
       "      <td>16.00000</td>\n",
       "      <td>76.000000</td>\n",
       "      <td>89.200000</td>\n",
       "    </tr>\n",
       "    <tr>\n",
       "      <th>max</th>\n",
       "      <td>65.000000</td>\n",
       "      <td>10.000000</td>\n",
       "      <td>10.000000</td>\n",
       "      <td>7.000000</td>\n",
       "      <td>30.000000</td>\n",
       "      <td>21.00000</td>\n",
       "      <td>100.000000</td>\n",
       "      <td>100.000000</td>\n",
       "    </tr>\n",
       "  </tbody>\n",
       "</table>\n",
       "</div>"
      ],
      "text/plain": [
       "                age  stress_level   sleep_hours  physical_activity_days  \\\n",
       "count  10000.000000  10000.000000  10000.000000            10000.000000   \n",
       "mean      41.557600      5.572000      6.473000                3.505700   \n",
       "std       13.749581      2.887741      1.473944                2.282737   \n",
       "min       18.000000      1.000000      3.000000                0.000000   \n",
       "25%       30.000000      3.000000      5.500000                2.000000   \n",
       "50%       41.500000      6.000000      6.500000                4.000000   \n",
       "75%       53.000000      8.000000      7.500000                5.000000   \n",
       "max       65.000000     10.000000     10.000000                7.000000   \n",
       "\n",
       "       depression_score  anxiety_score  social_support_score  \\\n",
       "count      10000.000000    10000.00000          10000.000000   \n",
       "mean          15.039900       10.56180             50.117700   \n",
       "std            8.990839        6.32264             29.229278   \n",
       "min            0.000000        0.00000              0.000000   \n",
       "25%            7.000000        5.00000             25.000000   \n",
       "50%           15.000000       11.00000             50.000000   \n",
       "75%           23.000000       16.00000             76.000000   \n",
       "max           30.000000       21.00000            100.000000   \n",
       "\n",
       "       productivity_score  \n",
       "count        10000.000000  \n",
       "mean            77.312210  \n",
       "std             14.061202  \n",
       "min             42.800000  \n",
       "25%             65.800000  \n",
       "50%             77.600000  \n",
       "75%             89.200000  \n",
       "max            100.000000  "
      ]
     },
     "execution_count": 5,
     "metadata": {},
     "output_type": "execute_result"
    }
   ],
   "source": [
    "### Columnas numéricos\n",
    "\n",
    "df.describe()"
   ]
  },
  {
   "cell_type": "markdown",
   "id": "0fc5314f-e542-4b61-8807-a5955b507568",
   "metadata": {},
   "source": [
    "### En las columnas numéricas podemos observar:\n",
    "- *Edad:* Una mediana de 41 años, siendo la edad min de 18 y máx de 65.\n",
    "- *Nivel de estres:* Valuado del 1 (bajo) al 10 (alto), se ubica en una mediana de 6 puntos.\n",
    "- *Hs de sueño:* Mediana de casi 7hs.\n",
    "  ## terminar de completar!!!"
   ]
  },
  {
   "cell_type": "code",
   "execution_count": 6,
   "id": "52997dbd-1ddd-4e2c-92e2-707c86034f35",
   "metadata": {},
   "outputs": [
    {
     "data": {
      "text/html": [
       "<div>\n",
       "<style scoped>\n",
       "    .dataframe tbody tr th:only-of-type {\n",
       "        vertical-align: middle;\n",
       "    }\n",
       "\n",
       "    .dataframe tbody tr th {\n",
       "        vertical-align: top;\n",
       "    }\n",
       "\n",
       "    .dataframe thead th {\n",
       "        text-align: right;\n",
       "    }\n",
       "</style>\n",
       "<table border=\"1\" class=\"dataframe\">\n",
       "  <thead>\n",
       "    <tr style=\"text-align: right;\">\n",
       "      <th></th>\n",
       "      <th>employment_status</th>\n",
       "      <th>work_environment</th>\n",
       "      <th>mental_health_history</th>\n",
       "      <th>seeks_treatment</th>\n",
       "      <th>mental_health_risk</th>\n",
       "      <th>gender</th>\n",
       "    </tr>\n",
       "  </thead>\n",
       "  <tbody>\n",
       "    <tr>\n",
       "      <th>count</th>\n",
       "      <td>10000</td>\n",
       "      <td>10000</td>\n",
       "      <td>10000</td>\n",
       "      <td>10000</td>\n",
       "      <td>10000</td>\n",
       "      <td>10000</td>\n",
       "    </tr>\n",
       "    <tr>\n",
       "      <th>unique</th>\n",
       "      <td>4</td>\n",
       "      <td>3</td>\n",
       "      <td>2</td>\n",
       "      <td>2</td>\n",
       "      <td>3</td>\n",
       "      <td>4</td>\n",
       "    </tr>\n",
       "    <tr>\n",
       "      <th>top</th>\n",
       "      <td>Employed</td>\n",
       "      <td>On-site</td>\n",
       "      <td>No</td>\n",
       "      <td>No</td>\n",
       "      <td>Medium</td>\n",
       "      <td>Male</td>\n",
       "    </tr>\n",
       "    <tr>\n",
       "      <th>freq</th>\n",
       "      <td>5868</td>\n",
       "      <td>5044</td>\n",
       "      <td>6969</td>\n",
       "      <td>6012</td>\n",
       "      <td>5892</td>\n",
       "      <td>4557</td>\n",
       "    </tr>\n",
       "  </tbody>\n",
       "</table>\n",
       "</div>"
      ],
      "text/plain": [
       "       employment_status work_environment mental_health_history  \\\n",
       "count              10000            10000                 10000   \n",
       "unique                 4                3                     2   \n",
       "top             Employed          On-site                    No   \n",
       "freq                5868             5044                  6969   \n",
       "\n",
       "       seeks_treatment mental_health_risk gender  \n",
       "count            10000              10000  10000  \n",
       "unique               2                  3      4  \n",
       "top                 No             Medium   Male  \n",
       "freq              6012               5892   4557  "
      ]
     },
     "execution_count": 6,
     "metadata": {},
     "output_type": "execute_result"
    }
   ],
   "source": [
    "### Columnas categóricos\n",
    "df[['employment_status', 'work_environment', 'mental_health_history', 'seeks_treatment', 'mental_health_risk', 'gender']].describe()"
   ]
  },
  {
   "cell_type": "markdown",
   "id": "64e1d736-a068-448e-b297-e15f75b5a208",
   "metadata": {},
   "source": [
    "#### De acuerdo a las columnas categoricas, podemos determinar que la mayoria de las personas estudiadas\n",
    "* Son empleados\n",
    "* Trabajan en el lugar de trabajo\n",
    "* No tienen antecedentes de salud mental\n",
    "* No buscan tratamiento\n",
    "* Y cuentan con un riesgo medio de padecer alguna enfermedad de salud mental"
   ]
  },
  {
   "cell_type": "markdown",
   "id": "8ff2a45f-6899-46c8-8796-a4c016e16a58",
   "metadata": {},
   "source": [
    "## DESARROLLO "
   ]
  },
  {
   "cell_type": "markdown",
   "id": "12a93a99-13d1-4221-9374-d089c9e2c6c9",
   "metadata": {},
   "source": [
    "### Clasificación de los niveles de ansiedad declarados por los encuestados\n",
    "\n",
    "#### Voy a enfocar mi analisis en determinar los niveles de ansiedad y depresión de los mismos. \n",
    "#### Para clasificar los niveles de ansiedad tomare como guia el test denominado \"GAD-7 – Trastorno de Ansiedad Generalizada (Generalized Anxiety Disorder-7)\" herramienta ampliamente utilizada por psicólogos, psiquiatras y médicos - que en base a las respuestas de los pacientes se establece la siguiente escala."
   ]
  },
  {
   "attachments": {
    "60e61e63-aec4-4755-aed0-97eac0d849bd.png": {
     "image/png": "[encoded data removed]"
    }
   },
   "cell_type": "markdown",
   "id": "9cd0eb04-d9ac-46db-b998-1c6fcec0f68f",
   "metadata": {},
   "source": [
    "\n",
    "* Puntuacion de ansiedad del 0 al 21 basado en test GAD-7.\n",
    "\n",
    "![image.png](attachment:60e61e63-aec4-4755-aed0-97eac0d849bd.png)"
   ]
  },
  {
   "cell_type": "code",
   "execution_count": 7,
   "id": "7a259279-1257-4de7-bf15-810ed12233f3",
   "metadata": {},
   "outputs": [],
   "source": [
    "## De acuerdo a los rangos declarados en la tabla anterior realizamos la categorización de los mismos para determinar con palabras el nivel de ansiedad.\n",
    "\n",
    "rangos = [0, 4, 9, 14, 21]  \n",
    "categorias = [\"Mínimo o ninguno\", \"Leve\", \"Moderado\", \"Severo\"]\n",
    "\n",
    "df['anxiety_level'] = pd.cut(df[\"anxiety_score\"], bins=rangos, labels=categorias, include_lowest=True)\n",
    "\n"
   ]
  },
  {
   "cell_type": "code",
   "execution_count": 8,
   "id": "427ccfcc-b4ed-49db-b6dd-218594f45f2c",
   "metadata": {},
   "outputs": [
    {
     "data": {
      "text/plain": [
       "<Axes: xlabel='anxiety_level', ylabel='count'>"
      ]
     },
     "execution_count": 8,
     "metadata": {},
     "output_type": "execute_result"
    },
    {
     "data": {
      "image/png": "[encoded data removed]",
      "text/plain": [
       "<Figure size 640x480 with 1 Axes>"
      ]
     },
     "metadata": {},
     "output_type": "display_data"
    }
   ],
   "source": [
    "## Grafico\n",
    "sns.countplot(x='anxiety_level', data=df, color='mediumblue')"
   ]
  },
  {
   "cell_type": "markdown",
   "id": "93686b3d-bbdc-41ce-a144-bfcb71489e5e",
   "metadata": {},
   "source": [
    "#### Se puede determinar que del total de observaciones más de 3000 cuentan con ansiedad severa (de 15 a 21 puntos)"
   ]
  },
  {
   "cell_type": "code",
   "execution_count": 9,
   "id": "ab921c42-5d60-46cf-83e0-df524f9982d6",
   "metadata": {},
   "outputs": [
    {
     "data": {
      "text/plain": [
       "anxiety_level\n",
       "Severo              32.06\n",
       "Moderado            23.27\n",
       "Mínimo o ninguno    22.50\n",
       "Leve                22.17\n",
       "Name: proportion, dtype: float64"
      ]
     },
     "execution_count": 9,
     "metadata": {},
     "output_type": "execute_result"
    }
   ],
   "source": [
    "##Sacar el % por cada categoria de ansiedad.\n",
    "\n",
    "df['anxiety_level'].value_counts(normalize=True) * 100\n",
    "\n"
   ]
  },
  {
   "cell_type": "markdown",
   "id": "aa3dc438-1272-4aab-b1d7-afd65ac7f9de",
   "metadata": {},
   "source": [
    "#### Podemos observar que un 55,33% padece ansiedad de MODERADA a SEVERA."
   ]
  },
  {
   "cell_type": "code",
   "execution_count": null,
   "id": "62b9c292-bd93-4372-bcf6-7c815b796a70",
   "metadata": {},
   "outputs": [],
   "source": []
  },
  {
   "cell_type": "markdown",
   "id": "77c5668d-7175-4dff-9199-eabda469e105",
   "metadata": {},
   "source": [
    "### Clasificación de los niveles de depresion declarados por los encuestados\n",
    "\n",
    "### De la misma manera que con la ansiedad me guiare para analizar los niveles de ansiedad por el test PHQ-9 – Cuestionario de Salud del Paciente (Patient Health Questionnaire-9). De cual se desprende la siguiente escala."
   ]
  },
  {
   "attachments": {
    "f58ba3b5-a622-435f-986a-f6e9e3db5910.png": {
     "image/png": "[encoded data removed]"
    }
   },
   "cell_type": "markdown",
   "id": "b6197f9a-cab3-457e-84d2-7a3dd0fb6f3a",
   "metadata": {},
   "source": [
    "* Puntuacion de ansiedad del 0 al 27 basado en test PHQ-9.\n",
    "  Puntaje total\tNivel de depresión\n",
    "\n",
    "![image.png](attachment:f58ba3b5-a622-435f-986a-f6e9e3db5910.png)\n",
    "\n"
   ]
  },
  {
   "cell_type": "code",
   "execution_count": 38,
   "id": "a4ae60d2-63ae-465d-9c0d-8dad3d0ff07d",
   "metadata": {},
   "outputs": [],
   "source": [
    "rangosD = [0,4,9,14,19,30]\n",
    "categoriasD = ['Mínimo o ninguno','Leve','Moderado','Moderadamente severo','Severo']\n",
    "\n",
    "df['depression_level'] = pd.cut(df[\"depression_score\"], bins=rangosD, labels=categoriasD, include_lowest=True)\n"
   ]
  },
  {
   "cell_type": "code",
   "execution_count": 39,
   "id": "e162c0a4-b4ea-4012-b049-e5092e35d676",
   "metadata": {},
   "outputs": [
    {
     "data": {
      "text/plain": [
       "<Axes: xlabel='depression_level', ylabel='count'>"
      ]
     },
     "execution_count": 39,
     "metadata": {},
     "output_type": "execute_result"
    },
    {
     "data": {
      "image/png": "[encoded data removed]",
      "text/plain": [
       "<Figure size 640x480 with 1 Axes>"
      ]
     },
     "metadata": {},
     "output_type": "display_data"
    }
   ],
   "source": [
    "sns.countplot(x='depression_level', data=df, color='mediumblue')"
   ]
  },
  {
   "cell_type": "code",
   "execution_count": 40,
   "id": "d2d059f4-b016-434e-9f97-8d594498d707",
   "metadata": {},
   "outputs": [
    {
     "data": {
      "text/plain": [
       "depression_level\n",
       "Severo                  35.58\n",
       "Moderado                16.61\n",
       "Mínimo o ninguno        16.22\n",
       "Moderadamente severo    15.81\n",
       "Leve                    15.78\n",
       "Name: proportion, dtype: float64"
      ]
     },
     "execution_count": 40,
     "metadata": {},
     "output_type": "execute_result"
    }
   ],
   "source": [
    "##Sacar el % por cada categoria de depresion.\n",
    "\n",
    "df['depression_level'].value_counts(normalize=True) * 100"
   ]
  },
  {
   "cell_type": "markdown",
   "id": "e99a8938-7cec-4cfa-8db9-ef354255621a",
   "metadata": {},
   "source": [
    "### Podemos observar que un 64,37% padece depresion entre MODERADA y SEVERA."
   ]
  },
  {
   "cell_type": "markdown",
   "id": "04886ece-1cc3-461b-bdac-42be25bc3627",
   "metadata": {},
   "source": [
    "#### Debido a estos altos niveles de ansiedad y depresion se van a evaluar las diferentes columnas contenedoras de datos de las personas encuestadas para determinar si tienen o no incidencia con dichos padecimientos.\n",
    "\n",
    "* Edad\n",
    "* Genero\n",
    "* Situacion laboral\n",
    "* Entorno laboral\n",
    "* Antecedentes de salud mental\n",
    "* Nivel de estres\n",
    "* Horas de sueño\n",
    "* Dias de actividad física\n",
    "* Riesgo de salud mental"
   ]
  },
  {
   "cell_type": "code",
   "execution_count": null,
   "id": "555b7b05-1b8b-4f33-bdba-3a72f3a21a92",
   "metadata": {},
   "outputs": [],
   "source": []
  },
  {
   "cell_type": "markdown",
   "id": "49247e28-02ed-4864-9f84-4f39cb176bd7",
   "metadata": {},
   "source": [
    "### Edad."
   ]
  },
  {
   "cell_type": "markdown",
   "id": "e721ba6a-7126-4554-a261-323b2a688475",
   "metadata": {},
   "source": [
    "#### Como se observo anteriormente, la edad va desde los 18(min) a los 65(max), por lo tanto lo voy a seccionar en 5 para su evaluacion.\n",
    "\n",
    "* 18 a 25\n",
    "* 25 a 35\n",
    "* 35 a 45\n",
    "* 45 a 55\n",
    "* 55 a 65"
   ]
  },
  {
   "cell_type": "code",
   "execution_count": 41,
   "id": "1aef46ae-788d-487d-b15c-d25bce8dcd66",
   "metadata": {},
   "outputs": [],
   "source": [
    "rangosAge = [0, 25, 35, 45, 55, 65]  \n",
    "categoriasAge = [\"18-24 años\", \"25-34 años\", \"35-44 años\", \"45-54 años\", \"55-65 años\"]\n",
    "\n",
    "df['age_range'] = pd.cut(df['age'], bins=rangosAge, labels=categoriasAge, include_lowest=True)"
   ]
  },
  {
   "cell_type": "code",
   "execution_count": 42,
   "id": "37a8393f-a242-4e72-826b-feaff6bf4a10",
   "metadata": {},
   "outputs": [
    {
     "data": {
      "text/plain": [
       "age_range\n",
       "35-44 años    2147\n",
       "25-34 años    2093\n",
       "45-54 años    2074\n",
       "55-65 años    2064\n",
       "18-24 años    1622\n",
       "Name: count, dtype: int64"
      ]
     },
     "execution_count": 42,
     "metadata": {},
     "output_type": "execute_result"
    }
   ],
   "source": [
    "df['age_range'].value_counts()"
   ]
  },
  {
   "cell_type": "markdown",
   "id": "4e2eb492-7119-447b-83a1-c3befceaa892",
   "metadata": {},
   "source": [
    "#### RELACIÓN ANSIEDAD - EDAD"
   ]
  },
  {
   "cell_type": "code",
   "execution_count": 43,
   "id": "736b9990-3c2e-4470-963d-7d7c3e6cf34b",
   "metadata": {},
   "outputs": [
    {
     "data": {
      "text/plain": [
       "<Axes: xlabel='age_range', ylabel='anxiety_score'>"
      ]
     },
     "execution_count": 43,
     "metadata": {},
     "output_type": "execute_result"
    },
    {
     "data": {
      "image/png": "[encoded data removed]",
      "text/plain": [
       "<Figure size 640x480 with 1 Axes>"
      ]
     },
     "metadata": {},
     "output_type": "display_data"
    }
   ],
   "source": [
    "sns.lineplot(x='age_range', y='anxiety_score', data=df, color='indigo')"
   ]
  },
  {
   "cell_type": "markdown",
   "id": "ea73fe01-36ea-4cf8-8f4f-111ae57407a1",
   "metadata": {},
   "source": [
    "#### Del grafico se puede exponer que:\n",
    "* La puntuación promedio de cada rango etareo esta entre los 10 y 11 puntos, lo que indica un ansiedad promedio MODERADA.\n",
    "* De los 18 a los 44 años se registra un aumento continuado\n",
    "* Alcanzando el punto más alto en el rango de los 45 a 54 años"
   ]
  },
  {
   "cell_type": "markdown",
   "id": "c34ac1a5-3195-404d-8def-bf3ba91e376f",
   "metadata": {},
   "source": [
    "#### RELACION DEPRESIÓN - EDAD"
   ]
  },
  {
   "cell_type": "code",
   "execution_count": 44,
   "id": "d0aa8de5-8335-40fc-88cf-c22f7c115933",
   "metadata": {},
   "outputs": [
    {
     "data": {
      "text/plain": [
       "<Axes: xlabel='age_range', ylabel='depression_score'>"
      ]
     },
     "execution_count": 44,
     "metadata": {},
     "output_type": "execute_result"
    },
    {
     "data": {
      "image/png": "[encoded data removed]",
      "text/plain": [
       "<Figure size 640x480 with 1 Axes>"
      ]
     },
     "metadata": {},
     "output_type": "display_data"
    }
   ],
   "source": [
    "sns.lineplot(x='age_range', y='depression_score', data=df, color='forestgreen')"
   ]
  },
  {
   "cell_type": "markdown",
   "id": "40aec40e-7ad4-4d8a-b858-5fded1f42a03",
   "metadata": {},
   "source": [
    "#### Del grafico se puede exponer que:\n",
    "* La media se establece entre los 14,8 y 15,2 en todas las edades lo que indica en promedio una depresión MODERADAMENTE SEVERA.\n",
    "* El pico más alto se observa entre los 18 y 24 años\n",
    "* Descendiendo hasta su pico más bajo en el rango de 25 a 34 años\n"
   ]
  },
  {
   "cell_type": "code",
   "execution_count": null,
   "id": "b9c0aec5-939d-4e6f-9c0c-6965715f4749",
   "metadata": {},
   "outputs": [],
   "source": []
  },
  {
   "cell_type": "markdown",
   "id": "316da1d4-c41b-4e7f-88a4-135ad203bcd5",
   "metadata": {},
   "source": [
    "### Género."
   ]
  },
  {
   "cell_type": "code",
   "execution_count": 45,
   "id": "a26adb54-a9a9-4fdb-9af8-f3ac34969695",
   "metadata": {},
   "outputs": [],
   "source": [
    "totales = df['gender'].value_counts()"
   ]
  },
  {
   "cell_type": "markdown",
   "id": "fa9cce3a-f123-435c-a260-047ab21cdc19",
   "metadata": {},
   "source": [
    "#### RELACIÓN ANSIEDAD - GENERO"
   ]
  },
  {
   "cell_type": "code",
   "execution_count": 46,
   "id": "50f38e0b-5097-4240-a584-1edfbd03ffab",
   "metadata": {},
   "outputs": [],
   "source": [
    "## Determinar por genero cuantas sufren de ansiedad severa o moderada\n",
    "\n",
    "filtro1 = df[df['anxiety_score'] > 9]\n",
    "filtro1\n",
    "\n",
    "ansiedad = filtro1['gender'].value_counts()"
   ]
  },
  {
   "cell_type": "code",
   "execution_count": 47,
   "id": "acf1eb9b-3157-47a7-955e-b540a33f9b74",
   "metadata": {},
   "outputs": [
    {
     "data": {
      "text/plain": [
       "gender\n",
       "Male                 55.45\n",
       "Female               54.70\n",
       "Non-binary           58.08\n",
       "Prefer not to say    57.08\n",
       "Name: count, dtype: float64"
      ]
     },
     "execution_count": 47,
     "metadata": {},
     "output_type": "execute_result"
    }
   ],
   "source": [
    "##Cuánto del total por género sufre ansiedad severa o moderada\n",
    "\n",
    "porcentaje = (ansiedad / totales * 100).round(2)\n",
    "porcentaje"
   ]
  },
  {
   "cell_type": "code",
   "execution_count": 48,
   "id": "97261ed0-e8ec-428b-9aac-d043cc56b71f",
   "metadata": {},
   "outputs": [
    {
     "data": {
      "text/plain": [
       "<Axes: xlabel='gender'>"
      ]
     },
     "execution_count": 48,
     "metadata": {},
     "output_type": "execute_result"
    },
    {
     "data": {
      "image/png": "[encoded data removed]",
      "text/plain": [
       "<Figure size 640x480 with 1 Axes>"
      ]
     },
     "metadata": {},
     "output_type": "display_data"
    }
   ],
   "source": [
    "import matplotlib.pyplot as plt\n",
    "\n",
    "porcentaje.plot(kind='bar', color='darkgray')"
   ]
  },
  {
   "cell_type": "code",
   "execution_count": 49,
   "id": "8a45ffb9-1d1e-44a6-8ceb-7ae71415b085",
   "metadata": {},
   "outputs": [
    {
     "data": {
      "text/plain": [
       "<Axes: xlabel='gender', ylabel='anxiety_score'>"
      ]
     },
     "execution_count": 49,
     "metadata": {},
     "output_type": "execute_result"
    },
    {
     "data": {
      "image/png": "[encoded data removed]",
      "text/plain": [
       "<Figure size 640x480 with 1 Axes>"
      ]
     },
     "metadata": {},
     "output_type": "display_data"
    }
   ],
   "source": [
    "sns.violinplot(x='gender', y='anxiety_score', data=filtro1, color = 'royalblue')"
   ]
  },
  {
   "cell_type": "markdown",
   "id": "c28acb98-be67-40f7-80d0-648a7a81d506",
   "metadata": {},
   "source": [
    "##### A partir del análisis se observa que más del 50% de las personas en cada género presentan niveles de ansiedad severa o moderada. Los porcentajes son muy similares entre los distintos grupos (oscilan entre ~54% y ~58%), lo que sugiere que el género no es un factor determinante en la prevalencia de la ansiedad dentro de esta muestra."
   ]
  },
  {
   "cell_type": "markdown",
   "id": "0e7e1452-7516-4894-b67c-df8962f93b89",
   "metadata": {},
   "source": [
    "#### RELACIÓN DEPRESION - GENERO"
   ]
  },
  {
   "cell_type": "code",
   "execution_count": 50,
   "id": "981e7825-cc98-4b74-bd64-b5c895c3c1ec",
   "metadata": {},
   "outputs": [],
   "source": [
    "## Determinar por genero cuantas sufren de depresion severa o moderada\n",
    "\n",
    "filtro2 = df[df['depression_score'] > 10]\n",
    "filtro2\n",
    "\n",
    "depresion = filtro2['gender'].value_counts()"
   ]
  },
  {
   "cell_type": "code",
   "execution_count": 51,
   "id": "8b52a54f-23dd-4ccb-9f09-aa0445e5eaba",
   "metadata": {},
   "outputs": [
    {
     "data": {
      "text/plain": [
       "gender\n",
       "Male                 65.20\n",
       "Female               65.09\n",
       "Non-binary           61.15\n",
       "Prefer not to say    62.02\n",
       "Name: count, dtype: float64"
      ]
     },
     "execution_count": 51,
     "metadata": {},
     "output_type": "execute_result"
    }
   ],
   "source": [
    "##Cuánto del total por género sufre depresion severa o moderada\n",
    "\n",
    "porcentaje2 = (depresion / totales *100).round(2)\n",
    "porcentaje2"
   ]
  },
  {
   "cell_type": "code",
   "execution_count": 52,
   "id": "717e59c7-ad8d-495f-a384-5520c1900de4",
   "metadata": {},
   "outputs": [
    {
     "data": {
      "text/plain": [
       "<Axes: xlabel='gender'>"
      ]
     },
     "execution_count": 52,
     "metadata": {},
     "output_type": "execute_result"
    },
    {
     "data": {
      "image/png": "[encoded data removed]",
      "text/plain": [
       "<Figure size 640x480 with 1 Axes>"
      ]
     },
     "metadata": {},
     "output_type": "display_data"
    }
   ],
   "source": [
    "porcentaje2.plot(kind='bar', color='darkgray')"
   ]
  },
  {
   "cell_type": "code",
   "execution_count": 53,
   "id": "f009a49a-5e67-40e1-b15c-744d2191d9a8",
   "metadata": {},
   "outputs": [
    {
     "data": {
      "text/plain": [
       "<Axes: xlabel='gender', ylabel='depression_score'>"
      ]
     },
     "execution_count": 53,
     "metadata": {},
     "output_type": "execute_result"
    },
    {
     "data": {
      "image/png": "[encoded data removed]",
      "text/plain": [
       "<Figure size 640x480 with 1 Axes>"
      ]
     },
     "metadata": {},
     "output_type": "display_data"
    }
   ],
   "source": [
    "sns.violinplot(x='gender', y='depression_score', data=filtro2, color = 'royalblue')"
   ]
  },
  {
   "cell_type": "markdown",
   "id": "c52850e3-1aaa-4498-b4fc-ed452f11585c",
   "metadata": {},
   "source": [
    "##### A partir del análisis se observa que más del 60% de las personas en cada género presentan niveles de depresión severa o moderada. Los porcentajes son muy similares entre los distintos grupos (oscilan entre ~61% y ~66%), lo que sugiere que el género no es un factor determinante en la prevalencia de la depresión dentro de esta muestra."
   ]
  },
  {
   "cell_type": "markdown",
   "id": "f2dc4e84-05af-46af-9779-50499f31feca",
   "metadata": {},
   "source": [
    "### Situación laboral."
   ]
  },
  {
   "cell_type": "code",
   "execution_count": 54,
   "id": "b3bfc349-25ed-4851-8ff6-4d0530c30da3",
   "metadata": {},
   "outputs": [
    {
     "data": {
      "text/plain": [
       "employment_status\n",
       "Employed         5868\n",
       "Student          2043\n",
       "Self-employed    1045\n",
       "Unemployed       1044\n",
       "Name: count, dtype: int64"
      ]
     },
     "execution_count": 54,
     "metadata": {},
     "output_type": "execute_result"
    }
   ],
   "source": [
    "df['employment_status'].value_counts()"
   ]
  },
  {
   "cell_type": "markdown",
   "id": "5b8b8cba-50f1-4c74-8c76-5423b4fbd096",
   "metadata": {},
   "source": [
    "#### RELACIÓN DEPRESION Y ANSIEDAD - CATEGORIA: EMPLEADO"
   ]
  },
  {
   "cell_type": "code",
   "execution_count": 55,
   "id": "a672eb6a-627a-4c12-81a4-b5bae0e44b9a",
   "metadata": {},
   "outputs": [
    {
     "data": {
      "text/plain": [
       "anxiety_level\n",
       "Severo              31.56\n",
       "Moderado            23.19\n",
       "Leve                22.67\n",
       "Mínimo o ninguno    22.58\n",
       "Name: proportion, dtype: float64"
      ]
     },
     "execution_count": 55,
     "metadata": {},
     "output_type": "execute_result"
    }
   ],
   "source": [
    "filtro3 = df[df['employment_status'] == 'Employed']\n",
    "\n",
    "# PORCENTAJE DE NIVELES DE ANSIEDAD SOBRE \"EMPLEADO\"\n",
    "\n",
    "(filtro3['anxiety_level'].value_counts(normalize = True)*100).round(2)"
   ]
  },
  {
   "cell_type": "code",
   "execution_count": 56,
   "id": "6a4bb8fe-52c0-4e07-a5f1-5eb7110c35e0",
   "metadata": {},
   "outputs": [
    {
     "data": {
      "text/plain": [
       "depression_level\n",
       "Severo                  35.55\n",
       "Moderadamente severo    16.46\n",
       "Moderado                16.21\n",
       "Mínimo o ninguno        16.19\n",
       "Leve                    15.59\n",
       "Name: proportion, dtype: float64"
      ]
     },
     "execution_count": 56,
     "metadata": {},
     "output_type": "execute_result"
    }
   ],
   "source": [
    "# PORCENTAJE DE NIVELES DE DEPRESION SOBRE \"EMPLEADO\"\n",
    "\n",
    "(filtro3['depression_level'].value_counts(normalize = True)*100).round(2)"
   ]
  },
  {
   "cell_type": "markdown",
   "id": "586f0624-6510-486c-83e4-8cbe7e96caa6",
   "metadata": {},
   "source": [
    "#### RELACIÓN DEPRESION Y ANSIEDAD - CATEGORIA: AUTONOMO"
   ]
  },
  {
   "cell_type": "code",
   "execution_count": 57,
   "id": "97df01a9-4259-48b7-a5cc-888b09101ce2",
   "metadata": {},
   "outputs": [
    {
     "data": {
      "text/plain": [
       "anxiety_level\n",
       "Severo              32.92\n",
       "Leve                23.25\n",
       "Mínimo o ninguno    22.39\n",
       "Moderado            21.44\n",
       "Name: proportion, dtype: float64"
      ]
     },
     "execution_count": 57,
     "metadata": {},
     "output_type": "execute_result"
    }
   ],
   "source": [
    "filtro4 = df[df['employment_status'] == 'Self-employed']\n",
    "\n",
    "# PORCENTAJE DE NIVELES DE ANSIEDAD SOBRE \"AUTONOMO\"\n",
    "\n",
    "(filtro4['anxiety_level'].value_counts(normalize = True)*100).round(2)"
   ]
  },
  {
   "cell_type": "code",
   "execution_count": 58,
   "id": "7fa10c4e-0065-4b0f-9f49-0954f569e685",
   "metadata": {},
   "outputs": [
    {
     "data": {
      "text/plain": [
       "depression_level\n",
       "Severo                  35.31\n",
       "Mínimo o ninguno        17.99\n",
       "Leve                    16.17\n",
       "Moderado                15.69\n",
       "Moderadamente severo    14.83\n",
       "Name: proportion, dtype: float64"
      ]
     },
     "execution_count": 58,
     "metadata": {},
     "output_type": "execute_result"
    }
   ],
   "source": [
    "# PORCENTAJE DE NIVELES DE DEPRESION SOBRE \"AUTONOMO\"\n",
    "\n",
    "(filtro4['depression_level'].value_counts(normalize = True)*100).round(2)"
   ]
  },
  {
   "cell_type": "code",
   "execution_count": 59,
   "id": "ef93f051-9a2c-47a3-bdae-56cff23febd0",
   "metadata": {},
   "outputs": [
    {
     "data": {
      "text/plain": [
       "anxiety_level\n",
       "Severo              32.89\n",
       "Moderado            24.03\n",
       "Mínimo o ninguno    22.56\n",
       "Leve                20.51\n",
       "Name: proportion, dtype: float64"
      ]
     },
     "execution_count": 59,
     "metadata": {},
     "output_type": "execute_result"
    }
   ],
   "source": [
    "filtro5 = df[df['employment_status'] == 'Student']\n",
    "\n",
    "# PORCENTAJE DE NIVELES DE ANSIEDAD SOBRE \"ESTUDIANTE\"\n",
    "\n",
    "(filtro5['anxiety_level'].value_counts(normalize = True)*100).round(2)"
   ]
  },
  {
   "cell_type": "code",
   "execution_count": 60,
   "id": "9ddf7bce-02fa-4427-a5bd-d3c6c6317f23",
   "metadata": {},
   "outputs": [
    {
     "data": {
      "text/plain": [
       "depression_level\n",
       "Severo                  36.66\n",
       "Moderado                17.52\n",
       "Leve                    15.57\n",
       "Mínimo o ninguno        15.42\n",
       "Moderadamente severo    14.83\n",
       "Name: proportion, dtype: float64"
      ]
     },
     "execution_count": 60,
     "metadata": {},
     "output_type": "execute_result"
    }
   ],
   "source": [
    "# PORCENTAJE DE NIVELES DE DEPRESION SOBRE \"ESTUDIANTE\"\n",
    "\n",
    "(filtro5['depression_level'].value_counts(normalize = True)*100).round(2)"
   ]
  },
  {
   "cell_type": "code",
   "execution_count": 61,
   "id": "db83543e-6de5-4f80-9dce-b8502baa7d0d",
   "metadata": {},
   "outputs": [
    {
     "data": {
      "text/plain": [
       "anxiety_level\n",
       "Severo              32.38\n",
       "Moderado            24.04\n",
       "Mínimo o ninguno    22.03\n",
       "Leve                21.55\n",
       "Name: proportion, dtype: float64"
      ]
     },
     "execution_count": 61,
     "metadata": {},
     "output_type": "execute_result"
    }
   ],
   "source": [
    "filtro6 = df[df['employment_status'] == 'Unemployed']\n",
    "\n",
    "# PORCENTAJE DE NIVELES DE ANSIEDAD SOBRE \"DESEMPLEADO\"\n",
    "\n",
    "(filtro6['anxiety_level'].value_counts(normalize = True)*100).round(2)"
   ]
  },
  {
   "cell_type": "code",
   "execution_count": 62,
   "id": "964a8451-cc47-4a46-be80-6bca1c24f749",
   "metadata": {},
   "outputs": [
    {
     "data": {
      "text/plain": [
       "depression_level\n",
       "Severo                  33.91\n",
       "Moderado                18.01\n",
       "Leve                    16.86\n",
       "Mínimo o ninguno        16.19\n",
       "Moderadamente severo    15.04\n",
       "Name: proportion, dtype: float64"
      ]
     },
     "execution_count": 62,
     "metadata": {},
     "output_type": "execute_result"
    }
   ],
   "source": [
    "# PORCENTAJE DE NIVELES DE DEPRESION SOBRE \"DESEMPLEADO\"\n",
    "\n",
    "(filtro6['depression_level'].value_counts(normalize = True)*100).round(2)"
   ]
  },
  {
   "cell_type": "code",
   "execution_count": null,
   "id": "2f5f1898-6017-402d-b1fe-5102e9da4f05",
   "metadata": {},
   "outputs": [],
   "source": []
  },
  {
   "cell_type": "markdown",
   "id": "d003b1ed-9215-4162-a632-86a07da7bd85",
   "metadata": {},
   "source": [
    "### Antecedentes de salud mental."
   ]
  },
  {
   "cell_type": "code",
   "execution_count": 63,
   "id": "927e4723-99be-4ce4-8f74-5caa65ddc214",
   "metadata": {},
   "outputs": [
    {
     "data": {
      "text/plain": [
       "<Axes: xlabel='mental_health_history'>"
      ]
     },
     "execution_count": 63,
     "metadata": {},
     "output_type": "execute_result"
    },
    {
     "data": {
      "image/png": "[encoded data removed]",
      "text/plain": [
       "<Figure size 640x480 with 1 Axes>"
      ]
     },
     "metadata": {},
     "output_type": "display_data"
    }
   ],
   "source": [
    "(df['mental_health_history'].value_counts(normalize = True)*100).plot(kind= 'bar', color = 'royalblue')"
   ]
  },
  {
   "cell_type": "markdown",
   "id": "4a4ca056-d1b5-488e-8c19-94838e3bf4f0",
   "metadata": {},
   "source": [
    "#### El 70% de la muestra NO tiene antecedentes en salud mental"
   ]
  },
  {
   "cell_type": "code",
   "execution_count": 36,
   "id": "20ee051f-021b-42ee-8c9d-34180ba87acc",
   "metadata": {},
   "outputs": [],
   "source": [
    "## hacer filtro que agrupe todos los que SI tengan depresion o ansiedad, excluyendo sólo \"mínimo o ninguno\""
   ]
  },
  {
   "cell_type": "code",
   "execution_count": 98,
   "id": "2e8a7d6b-bb1d-485b-95cd-41eaadcdb834",
   "metadata": {},
   "outputs": [],
   "source": [
    "filtro7 = df[df['anxiety_score'] > 4]\n",
    "anxydep = filtro7['anxiety_level'].count()"
   ]
  },
  {
   "cell_type": "code",
   "execution_count": 80,
   "id": "e7beb9c3-3660-4ce9-898e-ba32f3640e63",
   "metadata": {},
   "outputs": [],
   "source": [
    "total_anx_dep = df['anxiety_level'].count()"
   ]
  },
  {
   "cell_type": "code",
   "execution_count": 99,
   "id": "8ad21331-3e66-401f-8bcb-fd333d5f96b2",
   "metadata": {},
   "outputs": [
    {
     "data": {
      "text/plain": [
       "np.float64(77.5)"
      ]
     },
     "execution_count": 99,
     "metadata": {},
     "output_type": "execute_result"
    }
   ],
   "source": [
    "porcentaje3 = (anxydep / total_anx_dep * 100).round(2)\n",
    "porcentaje3"
   ]
  },
  {
   "cell_type": "markdown",
   "id": "666f8a39-4006-4fbd-9464-baa9d3a3a686",
   "metadata": {},
   "source": [
    "#### El 75.5% de la muestra sufre de depresión y ansiedad"
   ]
  },
  {
   "cell_type": "code",
   "execution_count": 105,
   "id": "ac62342d-4563-474a-b4f4-9169eb1306a1",
   "metadata": {},
   "outputs": [
    {
     "data": {
      "text/plain": [
       "np.int64(5410)"
      ]
     },
     "execution_count": 105,
     "metadata": {},
     "output_type": "execute_result"
    }
   ],
   "source": [
    "filtro8 = filtro7[filtro7['mental_health_history'] == 'No']\n",
    "history = filtro8['mental_health_history'].count()\n",
    "history"
   ]
  },
  {
   "cell_type": "code",
   "execution_count": 109,
   "id": "049abeeb-9355-4343-be69-fc2236537985",
   "metadata": {},
   "outputs": [
    {
     "data": {
      "text/plain": [
       "np.float64(69.81)"
      ]
     },
     "execution_count": 109,
     "metadata": {},
     "output_type": "execute_result"
    }
   ],
   "source": [
    "porcentaje4 = (history / anxydep * 100).round(2)\n",
    "porcentaje4"
   ]
  },
  {
   "cell_type": "markdown",
   "id": "12a29d72-d5bb-4b31-a9e4-e12da232a0d5",
   "metadata": {},
   "source": [
    "#### El 69.81% de los que SI padecen de depresión y ansiedad NO tienen antecedentes de salud mental. \n",
    "### Por lo tanto se infiere en que la genética no es un factor determinante de estos dos padecimientos."
   ]
  },
  {
   "cell_type": "code",
   "execution_count": null,
   "id": "498371b4-ce84-40b3-be54-8269c8d435eb",
   "metadata": {},
   "outputs": [],
   "source": []
  }
 ],
 "metadata": {
  "kernelspec": {
   "display_name": "Python [conda env:base] *",
   "language": "python",
   "name": "conda-base-py"
  },
  "language_info": {
   "codemirror_mode": {
    "name": "ipython",
    "version": 3
   },
   "file_extension": ".py",
   "mimetype": "text/x-python",
   "name": "python",
   "nbconvert_exporter": "python",
   "pygments_lexer": "ipython3",
   "version": "3.13.5"
  }
 },
 "nbformat": 4,
 "nbformat_minor": 5
}
